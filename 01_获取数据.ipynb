{
 "cells": [
  {
   "cell_type": "code",
   "execution_count": 54,
   "metadata": {
    "collapsed": true
   },
   "outputs": [],
   "source": [
    "import tushare as ts\n",
    "import pandas as pd\n",
    "import matplotlib.pyplot as plt\n",
    "pro = ts.pro_api('c1dfcd419324efa15b3b2269de1180befae1562f928410e3900cfe04')\n",
    "from matplotlib.font_manager import FontProperties\n",
    "font = FontProperties(fname=\"SimHei.ttf\", size=14)"
   ]
  },
  {
   "cell_type": "markdown",
   "source": [
    "1、获取一日的不同类型交易者的主动买入占比"
   ],
   "metadata": {
    "collapsed": false
   }
  },
  {
   "cell_type": "code",
   "execution_count": 55,
   "outputs": [],
   "source": [
    "def get_daily_buy_per(trade_date):\n",
    "    \"\"\"\n",
    "    获取一日的不同类型交易者的主动买入占比\n",
    "    :param trade_date: 交易日期\n",
    "    :return: 三种交易者的主动买入占比额\n",
    "    \"\"\"\n",
    "    # 获取单日全部股票数据（单位：万元）\n",
    "    data = pro.moneyflow(trade_date=trade_date)\n",
    "    data.set_index('ts_code', drop=True, inplace=True)\n",
    "    data['大单买入'] = data['buy_elg_amount']\n",
    "    data['中单买入'] = data['buy_lg_amount']\n",
    "    data['小单买入'] = data['buy_sm_amount'] + data['buy_md_amount']\n",
    "    data = data.loc[:, ['大单买入', '中单买入', '小单买入']]\n",
    "    sm_net_buy = data.sum()['小单买入'] / data.sum().sum()\n",
    "    md_net_buy = data.sum()['中单买入'] / data.sum().sum()\n",
    "    bg_net_buy = data.sum()['大单买入'] / data.sum().sum()\n",
    "    buy_sm_amount = data.sum()['小单买入']\n",
    "    buy_lg_amount = data.sum()['中单买入']\n",
    "    buy_elg_amount = data.sum()['大单买入']\n",
    "\n",
    "    return sm_net_buy, md_net_buy, bg_net_buy, buy_sm_amount, buy_lg_amount, buy_elg_amount"
   ],
   "metadata": {
    "collapsed": false
   }
  },
  {
   "cell_type": "markdown",
   "source": [
    "2、获取开盘的日期"
   ],
   "metadata": {
    "collapsed": false
   }
  },
  {
   "cell_type": "code",
   "execution_count": 56,
   "outputs": [],
   "source": [
    "date_list_df = pro.trade_cal(exchange='SSE', start_date='20180101', end_date='20230401')\n",
    "date_list_df = date_list_df[date_list_df['is_open'] == 1]\n",
    "date_list = list(date_list_df['cal_date'])"
   ],
   "metadata": {
    "collapsed": false
   }
  },
  {
   "cell_type": "markdown",
   "source": [
    "3、循环日期，获取每日占比"
   ],
   "metadata": {
    "collapsed": false
   }
  },
  {
   "cell_type": "code",
   "execution_count": 57,
   "outputs": [],
   "source": [
    "df = pd.DataFrame(columns=['小单主动买入占比', '中单主动买入占比', '大单主动买入占比', '小单买入额(万元)', '中单买入额(万元)','大单买入额(万元)'])\n",
    "\n",
    "for date in date_list:\n",
    "    sm_net_buy, md_net_buy, bg_net_buy , buy_sm_amount, buy_lg_amount, buy_elg_amount= get_daily_buy_per(date)\n",
    "    df.loc[date]=[sm_net_buy, md_net_buy, bg_net_buy, buy_sm_amount, buy_lg_amount, buy_elg_amount]\n",
    "\n",
    "df"
   ],
   "metadata": {
    "collapsed": false
   }
  },
  {
   "cell_type": "code",
   "execution_count": 58,
   "outputs": [],
   "source": [
    "df = df.reset_index(drop=False)\n",
    "df = df.rename(columns={'index':'交易日期'})\n",
    "df = df.sort_values(by='交易日期', ascending=True)\n",
    "df['交易日期'] = pd.to_datetime(df['交易日期'])\n",
    "df = df.set_index('交易日期')\n",
    "df.to_csv('主动买入成交占比.csv', encoding='utf-8', index=True)"
   ],
   "metadata": {
    "collapsed": false
   }
  },
  {
   "cell_type": "markdown",
   "source": [
    "4、可视化"
   ],
   "metadata": {
    "collapsed": false
   }
  },
  {
   "cell_type": "code",
   "execution_count": 61,
   "outputs": [],
   "source": [
    "plt.figure(figsize=(20, 4))\n",
    "plt.plot(df.iloc[:, :3])\n",
    "plt.show()"
   ],
   "metadata": {
    "collapsed": false
   }
  },
  {
   "cell_type": "markdown",
   "source": [
    "4、获取上证指数数据"
   ],
   "metadata": {
    "collapsed": false
   }
  },
  {
   "cell_type": "code",
   "execution_count": 60,
   "outputs": [],
   "source": [
    "index_df = pro.index_daily(ts_code='000001.SH', start_date='20180101', end_date='20230401')\n",
    "index_df.to_csv('SSE.csv', index=False)"
   ],
   "metadata": {
    "collapsed": false
   }
  }
 ],
 "metadata": {
  "kernelspec": {
   "display_name": "Python 3",
   "language": "python",
   "name": "python3"
  },
  "language_info": {
   "codemirror_mode": {
    "name": "ipython",
    "version": 2
   },
   "file_extension": ".py",
   "mimetype": "text/x-python",
   "name": "python",
   "nbconvert_exporter": "python",
   "pygments_lexer": "ipython2",
   "version": "2.7.6"
  }
 },
 "nbformat": 4,
 "nbformat_minor": 0
}
