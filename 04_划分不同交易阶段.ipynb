{
 "cells": [
  {
   "cell_type": "code",
   "execution_count": 1,
   "metadata": {
    "collapsed": true
   },
   "outputs": [],
   "source": [
    "import pandas as pd\n",
    "df = pd.read_csv('交易活跃度.csv')"
   ]
  },
  {
   "cell_type": "code",
   "execution_count": 2,
   "outputs": [],
   "source": [
    "# 将投资者行为阶段定义为4个阶段：升温、活跃、冷却、低迷，其中四个阶段并不需要连续出现，如升温和活跃可能交替出现\n",
    "# 对滚动和不滚动两种进行平滑\n",
    "df = df.iloc[1:, ]  # 去除第一行，其交易活跃度为0， 影响后面计算\n",
    "\n",
    "for col in ['知情交易者交易活跃度', '趋势追踪者交易活跃度', '跟随交易者交易活跃度']:\n",
    "    df[col+'_change'] = df[col].pct_change(1)\n",
    "    # df[col+'_10'] = df[col].rolling(window=10, min_periods=1).mean()\n",
    "    # df[col+'_10_change'] = df[col+'_10'].pct_change(1)\n",
    "df['SSE_change'] = df['SSE close'].pct_change(1)\n",
    "df = df.iloc[1:, ]  # 去除第一行，其交易活跃度为0， 影响后面计算"
   ],
   "metadata": {
    "collapsed": false
   }
  },
  {
   "cell_type": "code",
   "execution_count": 3,
   "outputs": [],
   "source": [
    "def stage(x):\n",
    "    \"\"\"\n",
    "    划分一种投资者的不同投资阶段\n",
    "    :param x: dataframe中的行\n",
    "    :return:\n",
    "    \"\"\"\n",
    "    # 知情交易者、趋势追踪者、跟随交易者\n",
    "\n",
    "    if x[col_name + '_change'] >= 0:  # 交易活跃度在上升\n",
    "        if x[col_name] >= 0:  # 交易活跃度在横轴以上\n",
    "            return '1'  # 升温阶段\n",
    "        else:\n",
    "            return '4'  # 交易活跃度在横轴以下，低迷阶段\n",
    "\n",
    "    elif x[col_name + '_change'] < 0:  # 交易活跃度在下降\n",
    "        if x[col_name] >= 0:  # 交易活跃度在横轴以上\n",
    "            return '2'  # 活跃阶段\n",
    "        else:\n",
    "            return '3'  # 交易活跃度在横轴以下，冷却阶段"
   ],
   "metadata": {
    "collapsed": false
   }
  },
  {
   "cell_type": "code",
   "execution_count": 4,
   "outputs": [],
   "source": [
    "for col_name in ['知情交易者交易活跃度', '趋势追踪者交易活跃度', '跟随交易者交易活跃度'\n",
    "    # , '知情交易者交易活跃度_10', '趋势追踪者交易活跃度_10', '跟随交易者交易活跃度_10'\n",
    "                 ]:\n",
    "    df[col_name + '_stage'] = df.apply(stage, axis=1)  # 将组别号存在class里\n",
    "\n",
    "df.to_csv('不同交易者的4个阶段.csv', index=False)"
   ],
   "metadata": {
    "collapsed": false
   }
  }
 ],
 "metadata": {
  "kernelspec": {
   "display_name": "Python 3",
   "language": "python",
   "name": "python3"
  },
  "language_info": {
   "codemirror_mode": {
    "name": "ipython",
    "version": 2
   },
   "file_extension": ".py",
   "mimetype": "text/x-python",
   "name": "python",
   "nbconvert_exporter": "python",
   "pygments_lexer": "ipython2",
   "version": "2.7.6"
  }
 },
 "nbformat": 4,
 "nbformat_minor": 0
}
